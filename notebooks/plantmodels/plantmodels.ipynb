{
 "cells": [
  {
   "cell_type": "markdown",
   "id": "c9d9206d-6df1-4bff-9c84-51c8542de701",
   "metadata": {},
   "source": [
    "# Plant Models in `shadie`\n",
    "This tutorial is going to cover the default models provided in `shadie` in great detail. These models are continuously updated to improve efficiency, incorporate new parameters or features that better reflect the biology of plants, and to stay up-to-date with `SLiM` and `tskit`. For that reason, you should always keep a record of your Eidos models generated with `shadie` and the version of `shadie` you used to generated it - because the models may change in the future!\n",
    "\n",
    "## Parameters\n",
    "This section will cover the meaning of parameters in a general sense. You can find a more detailed and specific description for each model by navigating to the subsection for that model on the "
   ]
  }
 ],
 "metadata": {
  "kernelspec": {
   "display_name": "Python 3 (ipykernel)",
   "language": "python",
   "name": "python3"
  },
  "language_info": {
   "codemirror_mode": {
    "name": "ipython",
    "version": 3
   },
   "file_extension": ".py",
   "mimetype": "text/x-python",
   "name": "python",
   "nbconvert_exporter": "python",
   "pygments_lexer": "ipython3",
   "version": "3.12.2"
  }
 },
 "nbformat": 4,
 "nbformat_minor": 5
}
